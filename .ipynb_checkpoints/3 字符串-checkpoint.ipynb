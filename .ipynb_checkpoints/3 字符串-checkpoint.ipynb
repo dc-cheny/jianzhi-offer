{
 "cells": [
  {
   "cell_type": "markdown",
   "metadata": {
    "collapsed": true,
    "pycharm": {
     "name": "#%% md\n"
    }
   },
   "source": [
    "###  替换空格"
   ]
  },
  {
   "cell_type": "markdown",
   "metadata": {},
   "source": [
    "将字符串中的空格替换成%20"
   ]
  },
  {
   "cell_type": "markdown",
   "metadata": {},
   "source": [
    "\n"
   ]
  },
  {
   "cell_type": "code",
   "execution_count": 13,
   "metadata": {},
   "outputs": [
    {
     "name": "stdout",
     "output_type": "stream",
     "text": [
      "hello%20world%20Sally\n"
     ]
    }
   ],
   "source": [
    "class solution:\n",
    "    def __init__(self, string):\n",
    "        self.str = string\n",
    "    \n",
    "    def count_blank(self, _str):\n",
    "        count = 0\n",
    "        for s in _str:\n",
    "            if s == ' ':\n",
    "                count += 1\n",
    "        return count\n",
    "    \n",
    "    def append_str(self, _str):\n",
    "        return _str + self.count_blank(_str) * 2 * ' '\n",
    "        \n",
    "    def replace_blank(self):\n",
    "        if not self.str:\n",
    "            return ''\n",
    "        \n",
    "        p1 = len(self.str) - 1\n",
    "        self.str = self.append_str(self.str)\n",
    "        p2 = len(self.str) - 1\n",
    "        \n",
    "        self.str = [s for s in self.str]\n",
    "        \n",
    "        for i in range(len(self.str) - 1, 0, -1):\n",
    "            if self.str[p1] != ' ':\n",
    "                self.str[p1], self.str[p2] = self.str[p2], self.str[p1]\n",
    "                p1, p2 = p1-1, p2-1\n",
    "            elif self.str[p1] == ' ':\n",
    "                p1, p2 = p1-1, p2-3\n",
    "                self.str[p2+1:p2+4] = '%20'\n",
    "        return ''.join(self.str)\n",
    "    \n",
    "s = solution('hello world Sally')\n",
    "print(s.replace_blank())"
   ]
  },
  {
   "cell_type": "code",
   "execution_count": null,
   "metadata": {},
   "outputs": [],
   "source": []
  }
 ],
 "metadata": {
  "kernelspec": {
   "display_name": "Python [conda env:root] *",
   "language": "python",
   "name": "conda-root-py"
  },
  "language_info": {
   "codemirror_mode": {
    "name": "ipython",
    "version": 3
   },
   "file_extension": ".py",
   "mimetype": "text/x-python",
   "name": "python",
   "nbconvert_exporter": "python",
   "pygments_lexer": "ipython3",
   "version": "3.7.2"
  },
  "pycharm": {
   "stem_cell": {
    "cell_type": "raw",
    "metadata": {
     "collapsed": false
    },
    "source": []
   }
  }
 },
 "nbformat": 4,
 "nbformat_minor": 1
}

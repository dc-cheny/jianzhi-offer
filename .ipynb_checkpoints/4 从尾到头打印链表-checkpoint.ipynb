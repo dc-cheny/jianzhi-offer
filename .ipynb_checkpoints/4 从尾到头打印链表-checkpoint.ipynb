{
 "cells": [
  {
   "cell_type": "markdown",
   "metadata": {},
   "source": [
    "### 从尾到头打印链表"
   ]
  },
  {
   "cell_type": "code",
   "execution_count": 1,
   "metadata": {},
   "outputs": [],
   "source": [
    "class ListNode:\n",
    "    def __init__(self, x):\n",
    "        self.val = x\n",
    "        self.next = None"
   ]
  },
  {
   "cell_type": "code",
   "execution_count": 5,
   "metadata": {},
   "outputs": [
    {
     "name": "stdout",
     "output_type": "stream",
     "text": [
      "3\n",
      "1\n",
      "0\n"
     ]
    }
   ],
   "source": [
    "class print_ln:\n",
    "    def __init__(self):\n",
    "        pass\n",
    "    \n",
    "    def p_listnode(self, ln):\n",
    "        if ln:\n",
    "            if ln.next:\n",
    "                self.p_listnode(ln.next)\n",
    "            print(ln.val)\n",
    "\n",
    "a = ListNode(0)\n",
    "b = ListNode(1)\n",
    "c = ListNode(3)\n",
    "a.next = b\n",
    "b.next = c\n",
    "b = print_ln().p_listnode(a)"
   ]
  },
  {
   "cell_type": "code",
   "execution_count": null,
   "metadata": {},
   "outputs": [],
   "source": []
  }
 ],
 "metadata": {
  "kernelspec": {
   "display_name": "Python [conda env:root] *",
   "language": "python",
   "name": "conda-root-py"
  },
  "language_info": {
   "codemirror_mode": {
    "name": "ipython",
    "version": 3
   },
   "file_extension": ".py",
   "mimetype": "text/x-python",
   "name": "python",
   "nbconvert_exporter": "python",
   "pygments_lexer": "ipython3",
   "version": "3.7.2"
  }
 },
 "nbformat": 4,
 "nbformat_minor": 2
}

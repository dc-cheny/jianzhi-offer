{
 "cells": [
  {
   "cell_type": "markdown",
   "metadata": {},
   "source": [
    "### 重建二叉树"
   ]
  },
  {
   "cell_type": "markdown",
   "metadata": {},
   "source": [
    "输入某二叉树的前序遍历和中序遍历的结果，请重建该二叉树。\n",
    "前序遍历和中序遍历都不含重复的数字"
   ]
  },
  {
   "cell_type": "code",
   "execution_count": 1,
   "metadata": {},
   "outputs": [],
   "source": [
    "class TreeNode:\n",
    "    def __init__(self, x):\n",
    "        self.val = x\n",
    "        self.right = None\n",
    "        self.left = None"
   ]
  },
  {
   "cell_type": "code",
   "execution_count": 2,
   "metadata": {},
   "outputs": [],
   "source": [
    "class solution:\n",
    "    def __init__(self):\n",
    "        pass\n",
    "    \n",
    "    def reconstruct(self, pre, mid):\n",
    "        if pre:\n",
    "            n_tree = TreeNode(pre[0])\n",
    "            pre_root_index = mid.index(pre[0])\n",
    "            n_tree.left = self.reconstruct(pre[1:pre_root_index+1], mid[:pre_root_index])\n",
    "            n_tree.right = self.reconstruct(pre[pre_root_index+1:], mid[pre_root_index+1:])\n",
    "            return n_tree\n",
    "        else:\n",
    "            return None\n",
    "\n",
    "s = solution().reconstruct([1,2,4,7,3,5,6,8], [4,7,2,1,5,3,8,6])"
   ]
  },
  {
   "cell_type": "code",
   "execution_count": 3,
   "metadata": {},
   "outputs": [],
   "source": [
    "from trees import draw_tree\n",
    "draw_tree(s)"
   ]
  },
  {
   "cell_type": "code",
   "execution_count": null,
   "metadata": {},
   "outputs": [],
   "source": []
  }
 ],
 "metadata": {
  "kernelspec": {
   "display_name": "Python [conda env:root] *",
   "language": "python",
   "name": "conda-root-py"
  },
  "language_info": {
   "codemirror_mode": {
    "name": "ipython",
    "version": 3
   },
   "file_extension": ".py",
   "mimetype": "text/x-python",
   "name": "python",
   "nbconvert_exporter": "python",
   "pygments_lexer": "ipython3",
   "version": "3.7.2"
  }
 },
 "nbformat": 4,
 "nbformat_minor": 2
}

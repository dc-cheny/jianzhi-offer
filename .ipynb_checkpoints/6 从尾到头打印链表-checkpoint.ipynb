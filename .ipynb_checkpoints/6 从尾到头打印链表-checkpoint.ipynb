{
 "cells": [
  {
   "cell_type": "markdown",
   "metadata": {},
   "source": [
    "### 从尾到头打印链表"
   ]
  },
  {
   "cell_type": "code",
   "execution_count": 1,
   "metadata": {},
   "outputs": [],
   "source": [
    "class ListNode:\n",
    "    def __init__(self, x):\n",
    "        self.val = x\n",
    "        self.next = None"
   ]
  },
  {
   "cell_type": "code",
   "execution_count": 2,
   "metadata": {},
   "outputs": [],
   "source": [
    "class solution:\n",
    "    def __init__(self):\n",
    "        pass\n",
    "    \n",
    "    def reverse_link_list(self, pHead):\n",
    "        # 非递归写法\n",
    "        if not pHead:\n",
    "            return None\n",
    "        else:\n",
    "            p1 = pHead\n",
    "            res = None\n",
    "            while p1:\n",
    "                temp = p1.next\n",
    "                p1.next = res\n",
    "                res = p1\n",
    "                p1 = temp\n",
    "        return res"
   ]
  },
  {
   "cell_type": "code",
   "execution_count": 6,
   "metadata": {},
   "outputs": [
    {
     "name": "stdout",
     "output_type": "stream",
     "text": [
      "3->2->1"
     ]
    }
   ],
   "source": [
    "from link_list import create_ll, print_ll\n",
    "a = create_ll([1, 2, 3])\n",
    "s = solution().reverse_link_list(a)\n",
    "print_ll(s)"
   ]
  },
  {
   "cell_type": "code",
   "execution_count": 5,
   "metadata": {},
   "outputs": [],
   "source": []
  },
  {
   "cell_type": "code",
   "execution_count": null,
   "metadata": {},
   "outputs": [],
   "source": []
  }
 ],
 "metadata": {
  "kernelspec": {
   "display_name": "Python [conda env:root] *",
   "language": "python",
   "name": "conda-root-py"
  },
  "language_info": {
   "codemirror_mode": {
    "name": "ipython",
    "version": 3
   },
   "file_extension": ".py",
   "mimetype": "text/x-python",
   "name": "python",
   "nbconvert_exporter": "python",
   "pygments_lexer": "ipython3",
   "version": "3.7.2"
  }
 },
 "nbformat": 4,
 "nbformat_minor": 2
}

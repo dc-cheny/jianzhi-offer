{
 "cells": [
  {
   "cell_type": "markdown",
   "metadata": {
    "collapsed": true
   },
   "source": [
    "### 找出数组中重复的数字\n",
    "在一个长度为n的数组里的所有数字都在0～n-1的范围内。数组中某些数字是重复的，但是不知道有哪几个数字重复了，也不知道每个数字重复了几次。请找出数组中任意一个重复的数字。例如，如果输入长度为7的数组{2,3,1,0,2,5,3}，那么对应的输出是重复的数字2或者数字3。"
   ]
  },
  {
   "cell_type": "markdown",
   "metadata": {},
   "source": [
    "### 方法一：排序后扫描"
   ]
  },
  {
   "cell_type": "code",
   "execution_count": 32,
   "metadata": {},
   "outputs": [
    {
     "name": "stdout",
     "output_type": "stream",
     "text": [
      "[1, 1, 2, 2, 3, 3, 4]\n3\n"
     ]
    }
   ],
   "source": [
    "class Solution1:\n",
    "    def __init__(self):\n",
    "        pass\n",
    "    \n",
    "    def quick_sort(self, nums):\n",
    "        if len(nums) <= 1:\n",
    "            return nums\n",
    "        else:\n",
    "            pivot = nums[0]\n",
    "            left = [x for x in nums[1:] if x <= pivot]\n",
    "            right = [x for x in nums[1:] if x > pivot]\n",
    "            return self.quick_sort(left) + [pivot] + self.quick_sort(right)\n",
    "    \n",
    "    def duplicateInArray(self, nums):\n",
    "        if len(nums) <= 1:\n",
    "            return 0\n",
    "        else:\n",
    "            nums = self.quick_sort(nums)\n",
    "            print(nums)\n",
    "            cnt = 0\n",
    "            i = 0\n",
    "            while i <= len(nums) - 2:\n",
    "                i += 1\n",
    "                if nums[i] == nums[i-1]:\n",
    "                    cnt += 1\n",
    "                    while i <= len(nums) - 1 and nums[i] == nums[i-1]:\n",
    "                        i += 1\n",
    "            return cnt\n",
    "\n",
    "# test\n",
    "nums = [1, 2, 2, 3, 1, 3,4]\n",
    "\n",
    "sol1 = Solution1()\n",
    "res = sol1.duplicateInArray(nums)\n",
    "print(res)\n",
    "    "
   ]
  },
  {
   "cell_type": "markdown",
   "metadata": {},
   "source": [
    "### 方法二：哈希表"
   ]
  },
  {
   "cell_type": "code",
   "execution_count": 35,
   "metadata": {},
   "outputs": [
    {
     "name": "stdout",
     "output_type": "stream",
     "text": [
      "3\n"
     ]
    }
   ],
   "source": [
    "class Solution2:\n",
    "    def __init(self):\n",
    "        pass\n",
    "    \n",
    "    def judge_by_hash(self, nums):\n",
    "        dic = {}\n",
    "        cnt = 0\n",
    "        \n",
    "        for n in nums:\n",
    "            if n not in dic:\n",
    "                dic[n] = 1\n",
    "            elif n in dic:\n",
    "                dic[n] += 1\n",
    "                \n",
    "        for k, v in dic.items():\n",
    "            if v > 1:\n",
    "                cnt += 1\n",
    "                \n",
    "        return cnt\n",
    "\n",
    "nums = [1,2,2,3,4,3,2,4]\n",
    "sol2 = Solution2()\n",
    "res = sol2.judge_by_hash(nums)\n",
    "print(res)\n",
    "            "
   ]
  },
  {
   "cell_type": "markdown",
   "metadata": {},
   "source": [
    "### 方法三：不需要额外分配内存且时间复杂度为O(n)的方法"
   ]
  },
  {
   "cell_type": "code",
   "execution_count": 1,
   "metadata": {
    "pycharm": {
     "is_executing": false
    }
   },
   "outputs": [],
   "source": [
    "class solution3:\n",
    "    def __init__(self):\n",
    "        pass\n",
    "    \n",
    "    def change_pos(self, left, right, _list):\n",
    "        temp = _list[left]\n",
    "        _list[left] = _list[right]\n",
    "        _list[right] = temp\n",
    "        return\n",
    "    \n",
    "    def find_duplicate(self, _list):\n",
    "        for i in range(len(_list)):\n",
    "            while i != _list[i]:\n",
    "                if _list[i] == _list[_list[i]]:\n",
    "                    return _list[i]\n",
    "                self.change_pos(i, _list[i], _list)\n",
    "        return\n",
    "test = solution3()\n",
    "nums = [1,2,2,3,4,3,2,4]\n",
    "res = test.find_duplicate(nums)\n",
    "print(res)"
   ]
  }
 ],
 "metadata": {
  "kernelspec": {
   "name": "conda-env-pytorch-clinic-py",
   "language": "python",
   "display_name": "Python [conda env:pytorch-clinic]"
  },
  "language_info": {
   "codemirror_mode": {
    "name": "ipython",
    "version": 2
   },
   "file_extension": ".py",
   "mimetype": "text/x-python",
   "name": "python",
   "nbconvert_exporter": "python",
   "pygments_lexer": "ipython2",
   "version": "2.7.6"
  },
  "pycharm": {
   "stem_cell": {
    "cell_type": "raw",
    "source": [],
    "metadata": {
     "collapsed": false
    }
   }
  }
 },
 "nbformat": 4,
 "nbformat_minor": 0
}
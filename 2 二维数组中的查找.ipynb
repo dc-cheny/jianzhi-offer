{
 "cells": [
  {
   "cell_type": "markdown",
   "source": [
    "在一个二维数组中，每一行都按照从左到右，从上到下的顺序递增。试从数组中找出一个数，若有就返回True，没有就返回False\n"
   ],
   "metadata": {
    "collapsed": false
   }
  },
  {
   "cell_type": "code",
   "execution_count": 8,
   "outputs": [
    {
     "name": "stdout",
     "text": [
      "3 1\n",
      "3 2\n",
      "3 3\n",
      "True\n"
     ],
     "output_type": "stream"
    }
   ],
   "source": [
    "class solution:\n",
    "    def __init__(self):\n",
    "        pass\n",
    "    \n",
    "    def find_num(self, array, num):\n",
    "        if not array:\n",
    "            return False\n",
    "        else:\n",
    "            num_i = len(array) - 1\n",
    "            num_j = 0\n",
    "            while num_i >= 0 and num_j <= len(array[0]) - 1:\n",
    "                if array[num_i][num_j] == num:\n",
    "                    return True\n",
    "                elif array[num_i][num_j] > num:\n",
    "                    num_i -= 1\n",
    "                else:\n",
    "                    num_j += 1\n",
    "                print(num_i, num_j)\n",
    "            # if array[num_i][num_j] == num:\n",
    "            #     return True\n",
    "            else:\n",
    "                return False\n",
    "\n",
    "arr = [\n",
    "    [1,2,3,4],\n",
    "    [2,3,4,5],\n",
    "    [4,5,6,7],\n",
    "    [8,9,10,15]\n",
    "]\n",
    "\n",
    "num = 15\n",
    "res = solution().find_num(arr, num)\n",
    "print(res)\n",
    "            \n",
    "\n"
   ],
   "metadata": {
    "collapsed": false,
    "pycharm": {
     "name": "#%%\n",
     "is_executing": false
    }
   }
  }
 ],
 "metadata": {
  "kernelspec": {
   "name": "conda-env-pytorch-clinic-py",
   "language": "python",
   "display_name": "Python [conda env:pytorch-clinic]"
  },
  "language_info": {
   "codemirror_mode": {
    "name": "ipython",
    "version": 2
   },
   "file_extension": ".py",
   "mimetype": "text/x-python",
   "name": "python",
   "nbconvert_exporter": "python",
   "pygments_lexer": "ipython2",
   "version": "2.7.6"
  },
  "pycharm": {
   "stem_cell": {
    "cell_type": "raw",
    "source": [
     "\n",
     "\n"
    ],
    "metadata": {
     "collapsed": false
    }
   }
  }
 },
 "nbformat": 4,
 "nbformat_minor": 0
}
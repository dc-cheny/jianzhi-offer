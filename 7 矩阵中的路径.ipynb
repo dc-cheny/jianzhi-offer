{
 "cells": [
  {
   "cell_type": "code",
   "execution_count": 65,
   "metadata": {},
   "outputs": [],
   "source": [
    "class Solution:\n",
    "    def __init__(self):\n",
    "        pass\n",
    "    \n",
    "    def hasPath(self, matrix, path):\n",
    "        if not matrix or not path:\n",
    "            return False\n",
    "        \n",
    "        rows = len(matrix)\n",
    "        cols = len(matrix[0])\n",
    "        \n",
    "        boolmat = [[0] * cols for i in range(rows)]\n",
    "        pathLength = 0\n",
    "        \n",
    "        for row in range(rows):\n",
    "            for col in range(cols):\n",
    "                if self.hasPathcore(matrix, rows, cols, row, col, path, pathLength, boolmat):\n",
    "                    return True\n",
    "        return False\n",
    "    \n",
    "    def hasPathcore(self, matrix, rows, cols, row, col, path, pathLength, boolmat):\n",
    "        if pathLength == len(path):\n",
    "            return True\n",
    "        \n",
    "        hasNextPath = False\n",
    "        if row >= 0 and row < rows and col >= 0 and col < cols:\n",
    "            if boolmat[row][col] == 0 and matrix[row][col] == path[pathLength]:\n",
    "                print(row, col)\n",
    "                pathLength += 1\n",
    "                boolmat[row][col] = 1\n",
    "                hasNextPath = (self.hasPathcore(matrix, rows, cols, row-1, col, path, pathLength, boolmat) or \n",
    "                               self.hasPathcore(matrix, rows, cols, row, col-1, path, pathLength, boolmat) or \n",
    "                               self.hasPathcore(matrix, rows, cols, row+1, col, path, pathLength, boolmat) or \n",
    "                               self.hasPathcore(matrix, rows, cols, row, col+1, path, pathLength, boolmat))\n",
    "            if not hasNextPath:\n",
    "                pathLength -= 1\n",
    "                boolmat[row][col] = 1\n",
    "        return hasNextPath"
   ]
  },
  {
   "cell_type": "code",
   "execution_count": 68,
   "metadata": {},
   "outputs": [
    {
     "name": "stdout",
     "output_type": "stream",
     "text": [
      "0 0\n",
      "0 3\n",
      "1 1\n",
      "2 1\n",
      "2 0\n"
     ]
    }
   ],
   "source": [
    "p = 'cat'\n",
    "mat = [\n",
    "    ['c', 'b', 'a', 'c'],\n",
    "    ['j', 'c', 'a', 'l'],\n",
    "    ['t', 'a', 'k', 't']\n",
    "]\n",
    "\n",
    "\n",
    "s = Solution().hasPath(mat, p)"
   ]
  },
  {
   "cell_type": "code",
   "execution_count": 69,
   "metadata": {},
   "outputs": [
    {
     "data": {
      "text/plain": [
       "True"
      ]
     },
     "execution_count": 69,
     "metadata": {},
     "output_type": "execute_result"
    }
   ],
   "source": [
    "s"
   ]
  },
  {
   "cell_type": "code",
   "execution_count": null,
   "metadata": {},
   "outputs": [],
   "source": []
  }
 ],
 "metadata": {
  "kernelspec": {
   "display_name": "Python [conda env:root] *",
   "language": "python",
   "name": "conda-root-py"
  },
  "language_info": {
   "codemirror_mode": {
    "name": "ipython",
    "version": 3
   },
   "file_extension": ".py",
   "mimetype": "text/x-python",
   "name": "python",
   "nbconvert_exporter": "python",
   "pygments_lexer": "ipython3",
   "version": "3.7.2"
  }
 },
 "nbformat": 4,
 "nbformat_minor": 2
}

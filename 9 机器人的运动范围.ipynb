{
 "cells": [
  {
   "cell_type": "markdown",
   "metadata": {},
   "source": [
    "### 机器人的运动范围"
   ]
  },
  {
   "cell_type": "code",
   "execution_count": 31,
   "metadata": {},
   "outputs": [],
   "source": [
    "class Solution:\n",
    "    def __init__(self):\n",
    "        pass\n",
    "    \n",
    "    def movingCount(self, threshold, rows, cols):\n",
    "        if threshold < 0 or rows <= 0 or cols <= 0:\n",
    "            return 0\n",
    "        visited = [[0]*cols for i in range(rows)]\n",
    "        count = self.countCore(threshold, rows, cols, 0, 0, visited)\n",
    "        return count\n",
    "    \n",
    "    def countCore(self, threshold, rows, cols, row, col, visited):\n",
    "        count = 0\n",
    "        if self.checkNext(threshold, rows, cols, row, col, visited):\n",
    "            visited[row][col] = 1\n",
    "            count = 1 + self.countCore(threshold, rows, cols, row-1, col, visited) + \\\n",
    "                        self.countCore(threshold, rows, cols, row+1, col, visited) + \\\n",
    "                        self.countCore(threshold, rows, cols, row, col-1, visited) + \\\n",
    "                        self.countCore(threshold, rows, cols, row, col+1, visited)\n",
    "        return count\n",
    "    \n",
    "    def checkNext(self, threshold, rows, cols, row, col, visited):\n",
    "        if row >= 0 and row < rows and col >= 0 and col < cols:\n",
    "            if not visited[row][col] and self.getDigitSum(row) + self.getDigitSum(col) <= threshold:\n",
    "                return True\n",
    "        return False\n",
    "    \n",
    "    def getDigitSum(self, num):\n",
    "        if num == 0:\n",
    "            return 0\n",
    "        elif num < 0:\n",
    "            return 0\n",
    "        else:\n",
    "            _sum = 0\n",
    "            while num > 0:\n",
    "                _sum += num % 10\n",
    "                num = num // 10\n",
    "        return _sum"
   ]
  },
  {
   "cell_type": "code",
   "execution_count": 32,
   "metadata": {},
   "outputs": [],
   "source": [
    "s = Solution().movingCount(1, 3, 3)"
   ]
  },
  {
   "cell_type": "code",
   "execution_count": 30,
   "metadata": {},
   "outputs": [
    {
     "data": {
      "text/plain": [
       "3"
      ]
     },
     "execution_count": 30,
     "metadata": {},
     "output_type": "execute_result"
    }
   ],
   "source": [
    "s"
   ]
  },
  {
   "cell_type": "code",
   "execution_count": 38,
   "metadata": {},
   "outputs": [
    {
     "ename": "ValueError",
     "evalue": "invalid literal for int() with base 10: '0b1100'",
     "output_type": "error",
     "traceback": [
      "\u001b[0;31m---------------------------------------------------------------------------\u001b[0m",
      "\u001b[0;31mValueError\u001b[0m                                Traceback (most recent call last)",
      "\u001b[0;32m<ipython-input-38-a2dc85d6b08e>\u001b[0m in \u001b[0;36m<module>\u001b[0;34m()\u001b[0m\n\u001b[0;32m----> 1\u001b[0;31m \u001b[0mint\u001b[0m\u001b[0;34m(\u001b[0m\u001b[0mbin\u001b[0m\u001b[0;34m(\u001b[0m\u001b[0;36m12\u001b[0m\u001b[0;34m)\u001b[0m\u001b[0;34m)\u001b[0m\u001b[0;34m-\u001b[0m\u001b[0;36m1\u001b[0m\u001b[0;34m\u001b[0m\u001b[0;34m\u001b[0m\u001b[0m\n\u001b[0m",
      "\u001b[0;31mValueError\u001b[0m: invalid literal for int() with base 10: '0b1100'"
     ]
    }
   ],
   "source": [
    "bin(12)-1"
   ]
  },
  {
   "cell_type": "code",
   "execution_count": null,
   "metadata": {},
   "outputs": [],
   "source": []
  }
 ],
 "metadata": {
  "kernelspec": {
   "display_name": "Python [conda env:root] *",
   "language": "python",
   "name": "conda-root-py"
  },
  "language_info": {
   "codemirror_mode": {
    "name": "ipython",
    "version": 3
   },
   "file_extension": ".py",
   "mimetype": "text/x-python",
   "name": "python",
   "nbconvert_exporter": "python",
   "pygments_lexer": "ipython3",
   "version": "3.7.2"
  }
 },
 "nbformat": 4,
 "nbformat_minor": 2
}

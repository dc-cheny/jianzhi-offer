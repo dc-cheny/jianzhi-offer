{
 "cells": [
  {
   "cell_type": "code",
   "execution_count": 1,
   "metadata": {},
   "outputs": [],
   "source": [
    "class TreeNode:\n",
    "    def __init__(self, x):\n",
    "        self.val = x\n",
    "        self.left = None\n",
    "        self.right = None"
   ]
  },
  {
   "cell_type": "code",
   "execution_count": 2,
   "metadata": {},
   "outputs": [],
   "source": [
    "tree = TreeNode(1)\n",
    "tree1 = TreeNode(2)\n",
    "tree2 = TreeNode(3)\n",
    "tree3 = TreeNode(4)\n",
    "tree4 = TreeNode(5)\n",
    "tree5 = TreeNode(6)\n",
    "tree6 = TreeNode(7)\n",
    "tree7 = TreeNode(8)\n",
    "tree8 = TreeNode(9)\n",
    "tree.left = tree1\n",
    "tree.right = tree2\n",
    "tree1.left = tree3\n",
    "tree1.right = tree4\n",
    "tree3.left = tree5\n",
    "tree3.right = tree6\n",
    "tree2.left = tree7\n",
    "tree2.right = tree8"
   ]
  },
  {
   "cell_type": "code",
   "execution_count": 3,
   "metadata": {},
   "outputs": [],
   "source": [
    "import trees\n",
    "trees.draw_tree(tree)"
   ]
  },
  {
   "cell_type": "code",
   "execution_count": 30,
   "metadata": {},
   "outputs": [],
   "source": [
    "class getElement:\n",
    "    def __init__(self, x, _type):\n",
    "        self.tree = x\n",
    "        self._type = _type\n",
    "    \n",
    "    def read_tree(self):\n",
    "        if self._type == 'backward':\n",
    "            return self.bwtree(self.tree)\n",
    "        elif self._type == 'forward':\n",
    "            return self.fwtree(self.tree)\n",
    "        elif self._type == 'mid':\n",
    "            return self.midtree(self.tree)\n",
    "        \n",
    "        \n",
    "    def bwtree(self, root):\n",
    "        if not root:\n",
    "            return None\n",
    "        \n",
    "        self.bwtree(root.left)\n",
    "        self.bwtree(root.right)\n",
    "        print(root.val)\n",
    "    \n",
    "    def frtree(self, root):\n",
    "        if not root:\n",
    "            return None\n",
    "        \n",
    "        \n",
    "        print(root.val)\n",
    "        self.frtree(root.left)\n",
    "        self.frtree(root.right)\n",
    "    \n",
    "    def midtree(self, root):\n",
    "        if not root:\n",
    "            return None\n",
    "        \n",
    "        \n",
    "        self.midtree(root.left)\n",
    "        print(root.val)\n",
    "        self.midtree(root.right)"
   ]
  },
  {
   "cell_type": "code",
   "execution_count": 31,
   "metadata": {},
   "outputs": [
    {
     "name": "stdout",
     "output_type": "stream",
     "text": [
      "6\n",
      "4\n",
      "7\n",
      "2\n",
      "5\n",
      "1\n",
      "8\n",
      "3\n",
      "9\n"
     ]
    }
   ],
   "source": [
    "tool = getElement(tree, 'mid')\n",
    "tool.read_tree()"
   ]
  },
  {
   "cell_type": "code",
   "execution_count": null,
   "metadata": {},
   "outputs": [],
   "source": []
  }
 ],
 "metadata": {
  "kernelspec": {
   "display_name": "Python [conda env:root] *",
   "language": "python",
   "name": "conda-root-py"
  },
  "language_info": {
   "codemirror_mode": {
    "name": "ipython",
    "version": 3
   },
   "file_extension": ".py",
   "mimetype": "text/x-python",
   "name": "python",
   "nbconvert_exporter": "python",
   "pygments_lexer": "ipython3",
   "version": "3.7.2"
  }
 },
 "nbformat": 4,
 "nbformat_minor": 2
}
